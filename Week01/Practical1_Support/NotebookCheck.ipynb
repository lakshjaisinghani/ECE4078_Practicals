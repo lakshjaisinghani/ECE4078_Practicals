{
 "cells": [
  {
   "cell_type": "code",
   "execution_count": 18,
   "metadata": {},
   "outputs": [],
   "source": [
    "%matplotlib notebook\n",
    "import os\n",
    "import numpy as np\n",
    "import matplotlib.pyplot as plt\n",
    "from matplotlib.patches import FancyArrowPatch\n",
    "import matplotlib.transforms as transforms\n",
    "import ipywidgets as widgets\n",
    "import threading as thrd\n",
    "import time\n",
    "\n",
    "\n",
    "class NotebookChecker:\n",
    "    \n",
    "    def __init__(self):\n",
    "        self.x = np.linspace(1, 2 * np.pi, 100)\n",
    "        fig, ax = plt.subplots()\n",
    "        self.line, = ax.plot(self.x, np.sin(self.x))\n",
    "        ax.grid(True)\n",
    "        self.figure = fig\n",
    "        \n",
    "        self.int_slider = widgets.IntSlider(value=0, min=0, max=10, step=1, description='$\\omega$',\n",
    "                                            continuous_update=False)\n",
    "        self.int_slider.observe(self.update, 'value')\n",
    "        self.text_secret = widgets.Text(value='', description='', continuous_update=False, disabled=True)\n",
    "        \n",
    "        controls = widgets.HBox([self.int_slider, self.text_secret])\n",
    "        display(controls)\n",
    " \n",
    "    def update(self, change):\n",
    "        self.line.set_ydata(np.sin(change.new * self.x))\n",
    "        self.figure.canvas.draw()\n",
    "        if change.new == 10:\n",
    "            self.text_secret.value = \"Atonal Tweezers\"\n",
    "        else:\n",
    "            self.text_secret.value = ''"
   ]
  },
  {
   "cell_type": "code",
   "execution_count": null,
   "metadata": {},
   "outputs": [],
   "source": []
  }
 ],
 "metadata": {
  "kernelspec": {
   "display_name": "IntelligentRobotics",
   "language": "python",
   "name": "intelligentrobotics"
  },
  "language_info": {
   "codemirror_mode": {
    "name": "ipython",
    "version": 3
   },
   "file_extension": ".py",
   "mimetype": "text/x-python",
   "name": "python",
   "nbconvert_exporter": "python",
   "pygments_lexer": "ipython3",
   "version": "3.8.3"
  }
 },
 "nbformat": 4,
 "nbformat_minor": 2
}
